{
  "cells": [
    {
      "cell_type": "code",
      "execution_count": null,
      "metadata": {
        "id": "78p8yTaoZ1p2"
      },
      "outputs": [
        {
          "ename": "",
          "evalue": "",
          "output_type": "error",
          "traceback": [
            "\u001b[1;31mRunning cells with 'Python 3.8.10' requires the ipykernel package.\n",
            "\u001b[1;31mRun the following command to install 'ipykernel' into the Python environment. \n",
            "\u001b[1;31mCommand: '/bin/python -m pip install ipykernel -U --user --force-reinstall'"
          ]
        }
      ],
      "source": [
        "#import libraries\n",
        "import numpy as np\n",
        "import torch\n",
        "import torch.nn as nn\n",
        "import torchvision\n",
        "from torchvision import datasets\n",
        "from torchvision import transforms\n",
        "from torch.utils.data.sampler import SubsetRandomSampler\n",
        "import os\n",
        "import cv2\n",
        "from torch.utils.data import DataLoader, Dataset\n",
        "\n"
      ]
    },
    {
      "cell_type": "code",
      "execution_count": 44,
      "metadata": {
        "colab": {
          "base_uri": "https://localhost:8080/"
        },
        "id": "OFyKhV9tcuda",
        "outputId": "99bd14ea-5f39-4786-a15a-32d709429d08"
      },
      "outputs": [
        {
          "data": {
            "text/plain": [
              "device(type='cuda')"
            ]
          },
          "execution_count": 44,
          "metadata": {},
          "output_type": "execute_result"
        }
      ],
      "source": [
        "device=torch.device('cuda' if torch.cuda.is_available() else 'cpu')\n",
        "device"
      ]
    },
    {
      "cell_type": "code",
      "execution_count": 45,
      "metadata": {
        "colab": {
          "base_uri": "https://localhost:8080/"
        },
        "id": "POh_GsU10JkE",
        "outputId": "2ec4f779-817a-43df-e221-61096fe12bae"
      },
      "outputs": [
        {
          "name": "stdout",
          "output_type": "stream",
          "text": [
            "Drive already mounted at /content/drive; to attempt to forcibly remount, call drive.mount(\"/content/drive\", force_remount=True).\n"
          ]
        }
      ],
      "source": [
        "from google.colab import drive\n",
        "drive.mount('/content/drive')\n",
        "data_dir = '/content/drive/MyDrive/Mango Leaf Species (Indian)/Compress Data Set'\n",
        "WIDTH = 224\n",
        "HEIGHT = 224\n",
        "n_channels = 3"
      ]
    },
    {
      "cell_type": "code",
      "execution_count": 46,
      "metadata": {
        "colab": {
          "base_uri": "https://localhost:8080/"
        },
        "id": "LKpC-Y227YFZ",
        "outputId": "db7ca526-47f3-4ba5-b9b2-feead9a9bc60"
      },
      "outputs": [
        {
          "name": "stdout",
          "output_type": "stream",
          "text": [
            "Dataset path: /content/drive/MyDrive/Mango Leaf Species (Indian)/Compress Data Set\n",
            "No of Classes: 32\n",
            "x_imgs shape: (768, 224, 224, 3)\n",
            "x_labels shape: (768,)\n"
          ]
        }
      ],
      "source": [
        "x_train = []\n",
        "x_label = []\n",
        "\n",
        "dir_list = os.listdir(data_dir)\n",
        "num_classes = len(dir_list)\n",
        "print(f\"Dataset path: {data_dir}\")\n",
        "print(f\"No of Classes: {num_classes}\")\n",
        "for dirname in dir_list:\n",
        "    dir_path = os.path.join(data_dir, dirname)\n",
        "    dir_files = os.listdir(dir_path)\n",
        "\n",
        "    for file_nm in dir_files:\n",
        "        img_path = os.path.join(dir_path, file_nm)\n",
        "        img = cv2.imread(img_path, cv2.IMREAD_COLOR)\n",
        "        img = cv2.resize(img, (WIDTH, HEIGHT))\n",
        "        x_train.append(img)\n",
        "        x_label.append(dirname)\n",
        "\n",
        "# Convert lists to numpy arrays\n",
        "x_imgs = np.array(x_train)\n",
        "x_labels = np.array(x_label)\n",
        "print(f\"x_imgs shape: {x_imgs.shape}\")\n",
        "print(f\"x_labels shape: {x_labels.shape}\")\n"
      ]
    },
    {
      "cell_type": "code",
      "execution_count": 54,
      "metadata": {
        "colab": {
          "base_uri": "https://localhost:8080/"
        },
        "id": "VqoggntG80pq",
        "outputId": "14332380-6e56-4292-e9e1-d345c23ff6bc"
      },
      "outputs": [
        {
          "data": {
            "text/plain": [
              "((729, 224, 224, 3), (729,), (39, 224, 224, 3), (39,))"
            ]
          },
          "execution_count": 54,
          "metadata": {},
          "output_type": "execute_result"
        }
      ],
      "source": [
        "from sklearn.preprocessing import LabelEncoder\n",
        "le = LabelEncoder()\n",
        "y_labels = le.fit_transform(x_labels)\n",
        "\n",
        "split_ratio = 0.95\n",
        "split_index = int(len(x_imgs) * split_ratio)\n",
        "\n",
        "# Shuffle the data\n",
        "indices = np.arange(len(x_imgs))\n",
        "np.random.shuffle(indices)\n",
        "\n",
        "x_imgs = x_imgs[indices]\n",
        "y_labels = y_labels[indices]\n",
        "\n",
        "# Split the data\n",
        "x_train = x_imgs[:split_index]\n",
        "y_train = y_labels[:split_index]\n",
        "\n",
        "x_valid = x_imgs[split_index:]\n",
        "y_valid = y_labels[split_index:]\n",
        "x_train.shape, y_train.shape, x_valid.shape, y_valid.shape"
      ]
    },
    {
      "cell_type": "code",
      "execution_count": 55,
      "metadata": {
        "id": "o0Wf5rxo9RLU"
      },
      "outputs": [],
      "source": [
        "class MangoLeafDataset(Dataset):\n",
        "    def __init__(self, images, labels, transform=None):\n",
        "        self.images = images\n",
        "        self.labels = labels\n",
        "        self.transform = transform\n",
        "\n",
        "    def __len__(self):\n",
        "        return len(self.images)\n",
        "\n",
        "    def __getitem__(self, idx):\n",
        "        image = self.images[idx]\n",
        "        label = self.labels[idx]\n",
        "\n",
        "        if self.transform:\n",
        "            image = self.transform(image)\n",
        "        return image, label"
      ]
    },
    {
      "cell_type": "code",
      "execution_count": 56,
      "metadata": {
        "id": "r-Y8MDSm9XTD"
      },
      "outputs": [],
      "source": [
        "transform = transforms.Compose([\n",
        "    transforms.ToPILImage(),\n",
        "    transforms.Resize((224, 224)),  # Resizes the image to 224x224\n",
        "    transforms.ToTensor(),\n",
        "    transforms.Normalize(mean=[0.485, 0.456, 0.406], std=[0.229, 0.224, 0.225]),\n",
        "])\n",
        "\n",
        "train_dataset = MangoLeafDataset(x_train, y_train, transform=transform)\n",
        "valid_dataset = MangoLeafDataset(x_valid, y_valid, transform=transform)\n",
        "\n",
        "train_loader = DataLoader(train_dataset, batch_size=32, shuffle=True)\n",
        "valid_loader = DataLoader(valid_dataset, batch_size=32, shuffle=False)\n"
      ]
    },
    {
      "cell_type": "code",
      "execution_count": 57,
      "metadata": {
        "id": "PqKpQtGieZ76"
      },
      "outputs": [],
      "source": [
        "class VGG16(nn.Module):\n",
        "  def __init__(self,num_classes=10):\n",
        "    super(VGG16,self).__init__()\n",
        "    self.layer1=nn.Sequential(\n",
        "        nn.Conv2d(3,64,kernel_size=3,stride=1,padding=1),\n",
        "        nn.BatchNorm2d(64),\n",
        "        nn.ReLU()\n",
        "    )\n",
        "    self.layer2=nn.Sequential(\n",
        "        nn.Conv2d(64,64,kernel_size=3,stride=1,padding=1),\n",
        "        nn.BatchNorm2d(64),\n",
        "        nn.ReLU(),\n",
        "        nn.MaxPool2d(kernel_size=2,stride=2)\n",
        "    )\n",
        "    self.layer3=nn.Sequential(\n",
        "        nn.Conv2d(64,128,kernel_size=3,stride=1,padding=1),\n",
        "        nn.BatchNorm2d(128),\n",
        "        nn.ReLU()\n",
        "    )\n",
        "    self.layer4=nn.Sequential(\n",
        "        nn.Conv2d(128,128,kernel_size=3,stride=1,padding=1),\n",
        "        nn.BatchNorm2d(128),\n",
        "        nn.ReLU(),\n",
        "        nn.MaxPool2d(kernel_size=2,stride=2)\n",
        "    )\n",
        "    self.layer5=nn.Sequential(\n",
        "        nn.Conv2d(128,256,kernel_size=3,stride=1,padding=1),\n",
        "        nn.BatchNorm2d(256),\n",
        "        nn.ReLU(),\n",
        "    )\n",
        "    self.layer6=nn.Sequential(\n",
        "        nn.Conv2d(256,256,kernel_size=3,stride=1,padding=1),\n",
        "        nn.BatchNorm2d(256),\n",
        "        nn.ReLU()\n",
        "    )\n",
        "    self.layer7=nn.Sequential(\n",
        "        nn.Conv2d(256,256,kernel_size=3,stride=1,padding=1),\n",
        "        nn.BatchNorm2d(256),\n",
        "        nn.ReLU(),\n",
        "        nn.MaxPool2d(kernel_size=2,stride=2)\n",
        "    )\n",
        "    self.layer8=nn.Sequential(\n",
        "        nn.Conv2d(256,512,kernel_size=3,stride=1,padding=1),\n",
        "        nn.BatchNorm2d(512),\n",
        "        nn.ReLU()\n",
        "    )\n",
        "    self.layer9=nn.Sequential(\n",
        "        nn.Conv2d(512,512,kernel_size=3,stride=1,padding=1),\n",
        "        nn.BatchNorm2d(512),\n",
        "        nn.ReLU()\n",
        "    )\n",
        "    self.layer10=nn.Sequential(\n",
        "        nn.Conv2d(512,512,kernel_size=3,stride=1,padding=1),\n",
        "        nn.BatchNorm2d(512),\n",
        "        nn.ReLU(),\n",
        "        nn.MaxPool2d(kernel_size=2,stride=2)\n",
        "    )\n",
        "    self.layer11=nn.Sequential(\n",
        "        nn.Conv2d(512,512,kernel_size=3,stride=1,padding=1),\n",
        "        nn.BatchNorm2d(512),\n",
        "        nn.ReLU()\n",
        "    )\n",
        "    self.layer12=nn.Sequential(\n",
        "        nn.Conv2d(512,512,kernel_size=3,stride=1,padding=1),\n",
        "        nn.BatchNorm2d(512),\n",
        "        nn.ReLU()\n",
        "    )\n",
        "    self.layer13=nn.Sequential(\n",
        "        nn.Conv2d(512,512,kernel_size=3,stride=1,padding=1),\n",
        "        nn.BatchNorm2d(512),\n",
        "        nn.ReLU(),\n",
        "        nn.MaxPool2d(kernel_size=2,stride=2)\n",
        "    )\n",
        "    self.fc=nn.Sequential(\n",
        "        nn.Dropout(0.5),\n",
        "        nn.Linear(7*7*512,4096),\n",
        "        nn.ReLU()\n",
        "    )\n",
        "    self.fc1=nn.Sequential(\n",
        "        nn.Dropout(0.5),\n",
        "        nn.Linear(4096,4096),\n",
        "        nn.ReLU()\n",
        "    )\n",
        "    self.fc2=nn.Sequential(\n",
        "        nn.Linear(4096,num_classes)\n",
        "    )\n",
        "  def forward(self,x):\n",
        "      out=self.layer1(x)\n",
        "      out=self.layer2(out)\n",
        "      out=self.layer3(out)\n",
        "      out=self.layer4(out)\n",
        "      out=self.layer5(out)\n",
        "      out=self.layer6(out)\n",
        "      out=self.layer7(out)\n",
        "      out=self.layer8(out)\n",
        "      out=self.layer9(out)\n",
        "      out=self.layer10(out)\n",
        "      out=self.layer11(out)\n",
        "      out=self.layer12(out)\n",
        "      out=self.layer13(out)\n",
        "      out=out.reshape(out.size(0),-1)\n",
        "      out=self.fc(out)\n",
        "      out=self.fc1(out)\n",
        "      out=self.fc2(out)\n",
        "      return out"
      ]
    },
    {
      "cell_type": "code",
      "execution_count": 58,
      "metadata": {
        "id": "dn9JUGKBjxQ4"
      },
      "outputs": [],
      "source": [
        "num_classes=32\n",
        "num_epochs=100\n",
        "batch_size=16\n",
        "learning_rate=0.001\n",
        "model=VGG16(num_classes).to(device)"
      ]
    },
    {
      "cell_type": "code",
      "execution_count": 59,
      "metadata": {
        "colab": {
          "base_uri": "https://localhost:8080/"
        },
        "id": "LxPJBkMFkM_9",
        "outputId": "739d67c9-f3bf-4684-c757-5a4c949ec1f0"
      },
      "outputs": [
        {
          "data": {
            "text/plain": [
              "23"
            ]
          },
          "execution_count": 59,
          "metadata": {},
          "output_type": "execute_result"
        }
      ],
      "source": [
        "criterion=nn.CrossEntropyLoss()\n",
        "optimizer=torch.optim.Adam(model.parameters(),lr=learning_rate)\n",
        "total_step=len(train_loader)\n",
        "total_step"
      ]
    },
    {
      "cell_type": "code",
      "execution_count": null,
      "metadata": {
        "id": "rgArzOGtk-Vg"
      },
      "outputs": [],
      "source": [
        "for epoch in range(num_epochs):\n",
        "  for i,(images,labels) in enumerate(train_loader):\n",
        "    images=images.to(device)\n",
        "    labels=labels.to(device)\n",
        "    # print(labels)\n",
        "    outputs=model(images)\n",
        "    loss=criterion(outputs,labels)\n",
        "    optimizer.zero_grad()\n",
        "    loss.backward()\n",
        "    optimizer.step()\n",
        "    if (i+1)%100==0:\n",
        "      print('Epoch [{}/{}],Step[{}/{}],Loss:{:.4f}'.format(epoch+1,num_epochs,i+1,total_step,loss.item()))\n",
        "torch.save(model.state_dict(), 'model.pth')\n",
        "with torch.no_grad():\n",
        "  correct=0\n",
        "  total=0\n",
        "  for images,labels in valid_loader:\n",
        "    images=images.to(device)\n",
        "    labels=labels.to(device)\n",
        "    outputs=model(images)\n",
        "\n",
        "    _,predicted=torch.max(outputs.data,1)\n",
        "    total+=labels.size(0)\n",
        "    correct+=(predicted==labels).sum().item()\n",
        "    del images,labels,outputs\n",
        "  print('Accuracy of the network on the validation images: {} %'.format(100*correct/total))\n"
      ]
    }
  ],
  "metadata": {
    "accelerator": "GPU",
    "colab": {
      "gpuType": "T4",
      "provenance": []
    },
    "kernelspec": {
      "display_name": "Python 3",
      "name": "python3"
    },
    "language_info": {
      "name": "python",
      "version": "3.8.10"
    }
  },
  "nbformat": 4,
  "nbformat_minor": 0
}
